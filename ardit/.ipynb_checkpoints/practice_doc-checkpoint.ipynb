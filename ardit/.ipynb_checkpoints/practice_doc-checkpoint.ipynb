{
 "cells": [
  {
   "cell_type": "markdown",
   "id": "5677eeb5",
   "metadata": {},
   "source": [
    "print (\"Hello bhsdk\")"
   ]
  },
  {
   "cell_type": "code",
   "execution_count": 1,
   "id": "fb3871db",
   "metadata": {},
   "outputs": [
    {
     "name": "stdout",
     "output_type": "stream",
     "text": [
      "Hello dunia walo\n"
     ]
    }
   ],
   "source": [
    "print (\"Hello dunia walo\")"
   ]
  }
 ],
 "metadata": {
  "kernelspec": {
   "display_name": "base",
   "language": "python",
   "name": "python3"
  },
  "language_info": {
   "codemirror_mode": {
    "name": "ipython",
    "version": 3
   },
   "file_extension": ".py",
   "mimetype": "text/x-python",
   "name": "python",
   "nbconvert_exporter": "python",
   "pygments_lexer": "ipython3",
   "version": "3.12.7"
  }
 },
 "nbformat": 4,
 "nbformat_minor": 5
}
