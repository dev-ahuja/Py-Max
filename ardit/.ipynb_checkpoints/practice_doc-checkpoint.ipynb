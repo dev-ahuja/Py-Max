{
 "cells": [
  {
   "cell_type": "markdown",
   "id": "5677eeb5",
   "metadata": {},
   "source": [
    "print (\"Hello bhsdk\")"
   ]
  },
  {
   "cell_type": "code",
   "execution_count": null,
   "id": "fb3871db",
   "metadata": {},
   "outputs": [
    {
     "ename": "",
     "evalue": "",
     "output_type": "error",
     "traceback": [
      "\u001b[1;31mRunning cells with '3.13 (Python 3.13.0)' requires the ipykernel package.\n",
      "\u001b[1;31mRun the following command to install 'ipykernel' into the Python environment. \n",
      "\u001b[1;31mCommand: '/opt/homebrew/bin/python3.13 -m pip install ipykernel -U --force-reinstall'"
     ]
    }
   ],
   "source": [
    "print (\"Hello dunia walo\")"
   ]
  }
 ],
 "metadata": {
  "kernelspec": {
   "display_name": "3.13",
   "language": "python",
   "name": "python3"
  },
  "language_info": {
   "name": "python",
   "version": "3.13.0"
  }
 },
 "nbformat": 4,
 "nbformat_minor": 5
}
