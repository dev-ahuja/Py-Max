{
 "cells": [
  {
   "cell_type": "code",
   "execution_count": null,
   "id": "43ccc3da-8244-41fe-887f-38bcf733b2ed",
   "metadata": {},
   "outputs": [],
   "source": []
  }
 ],
 "metadata": {
  "kernelspec": {
   "display_name": "",
   "name": ""
  },
  "language_info": {
   "name": ""
  }
 },
 "nbformat": 4,
 "nbformat_minor": 5
}
