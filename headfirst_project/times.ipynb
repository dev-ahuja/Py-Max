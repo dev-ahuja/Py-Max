{
 "cells": [
  {
   "cell_type": "code",
   "execution_count": 17,
   "metadata": {},
   "outputs": [
    {
     "name": "stdout",
     "output_type": "stream",
     "text": [
      "[8795, 8107, 9096, 8322, 8795, 8830]\n",
      "8657.5\n",
      "1 26 58\n",
      "1:26.58\n"
     ]
    }
   ],
   "source": [
    "import statistics\n",
    "\n",
    "FN = \"darius-13-100m-fly.txt\"\n",
    "FOLDER = \"swimdata/\"\n",
    "#Task1- break the file name to fetch the name,age,distance,stroke\n",
    "name,age,distance,stroke=FN.removesuffix('.txt').split('-')\n",
    "\n",
    "#Task2- Fetch the data from file\n",
    "# Get the details from file and break it into list\n",
    "with open(FOLDER + FN) as file:\n",
    "    lines = file.readlines()\n",
    "times= lines[0].strip().split(',')\n",
    "\n",
    "# To get the average of time convert the string values from earlier list and convert it to int and process to hundredths.\n",
    "converts = []\n",
    "for t in times:\n",
    "    minutes, rest = t.split(':')\n",
    "    seconds, hundredths = rest.split('.')\n",
    "    converts.append((int(minutes)*60*100) + (int(seconds)*100) + int(hundredths))\n",
    "print(converts)   \n",
    "\n",
    "# Once all the string values are converted, check the mean by below method. \n",
    "average = statistics.mean(converts)\n",
    "\n",
    "# Revert it back to original format.\n",
    "\n",
    "# calculate the number of minutes\n",
    "mins_secs, hundredths = str(round(average/100, 2)).split(\".\")\n",
    "mins_secs = int(mins_secs)\n",
    "minutes = (mins_secs//60)\n",
    "seconds = mins_secs - minutes*60\n",
    "\n",
    "print(minutes, seconds, hundredths)\n",
    "\n",
    "perf_average = str(minutes)+ \":\" + str(seconds) + \".\" + hundredths\n",
    "print(perf_average)\n"
   ]
  },
  {
   "cell_type": "code",
   "execution_count": null,
   "metadata": {},
   "outputs": [],
   "source": []
  }
 ],
 "metadata": {
  "kernelspec": {
   "display_name": "base",
   "language": "python",
   "name": "python3"
  },
  "language_info": {
   "codemirror_mode": {
    "name": "ipython",
    "version": 3
   },
   "file_extension": ".py",
   "mimetype": "text/x-python",
   "name": "python",
   "nbconvert_exporter": "python",
   "pygments_lexer": "ipython3",
   "version": "3.12.7"
  }
 },
 "nbformat": 4,
 "nbformat_minor": 2
}
