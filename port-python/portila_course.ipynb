{
 "cells": [
  {
   "cell_type": "code",
   "execution_count": null,
   "id": "d35c836e-d005-4265-8bb0-14a660e7831f",
   "metadata": {},
   "outputs": [],
   "source": []
  }
 ],
 "metadata": {
  "kernelspec": {
   "display_name": "",
   "name": ""
  },
  "language_info": {
   "name": ""
  }
 },
 "nbformat": 4,
 "nbformat_minor": 5
}
